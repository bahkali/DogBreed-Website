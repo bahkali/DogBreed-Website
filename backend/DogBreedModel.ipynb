{
  "nbformat": 4,
  "nbformat_minor": 0,
  "metadata": {
    "colab": {
      "name": "DogBreedModel.ipynb",
      "provenance": [],
      "authorship_tag": "ABX9TyOIqLvXl7cY5vNm3jX8LpNZ",
      "include_colab_link": true
    },
    "kernelspec": {
      "name": "python3",
      "display_name": "Python 3"
    }
  },
  "cells": [
    {
      "cell_type": "markdown",
      "metadata": {
        "id": "view-in-github",
        "colab_type": "text"
      },
      "source": [
        "<a href=\"https://colab.research.google.com/github/bahkali/DogBreed-Website/blob/main/backend/DogBreedModel.ipynb\" target=\"_parent\"><img src=\"https://colab.research.google.com/assets/colab-badge.svg\" alt=\"Open In Colab\"/></a>"
      ]
    },
    {
      "cell_type": "markdown",
      "metadata": {
        "id": "EEkYkdD2oqFI"
      },
      "source": [
        "## End to End Multi-class Dog Breed Classification\r\n",
        "\r\n",
        "this notebook build an end-to-end multi-class images classifier using TensorFlow and TensorFlow Hub.\r\n",
        "After use the model to deploy on website.\r\n",
        "\r\n",
        "##1. Data\r\n",
        "The Data we're using is from Kaggle's dog breed identification competition."
      ]
    },
    {
      "cell_type": "code",
      "metadata": {
        "id": "Wv1yikXPphzx"
      },
      "source": [
        "# Import Tools\r\n",
        "import pandas as pd\r\n",
        "import numpy as np\r\n",
        "import matplotlib.pyplot as plt\r\n",
        "import tensorflow as tf\r\n",
        "import tensorflow_hub as hub"
      ],
      "execution_count": 1,
      "outputs": []
    },
    {
      "cell_type": "markdown",
      "metadata": {
        "id": "jC9slUkqqiBg"
      },
      "source": [
        "## Preprocessing Data\r\n",
        " Turning images into Tensors\r\n",
        " "
      ]
    },
    {
      "cell_type": "code",
      "metadata": {
        "id": "alkc4Z1XqxNQ"
      },
      "source": [
        ""
      ],
      "execution_count": null,
      "outputs": []
    }
  ]
}